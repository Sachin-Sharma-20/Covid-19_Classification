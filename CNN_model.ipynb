{
 "cells": [
  {
   "cell_type": "code",
   "execution_count": 1,
   "metadata": {
    "id": "SHSw4jE1yBJZ"
   },
   "outputs": [
    {
     "name": "stdout",
     "output_type": "stream",
     "text": [
      "INFO:tensorflow:Enabling eager execution\n",
      "INFO:tensorflow:Enabling v2 tensorshape\n",
      "INFO:tensorflow:Enabling resource variables\n",
      "INFO:tensorflow:Enabling tensor equality\n",
      "INFO:tensorflow:Enabling control flow v2\n"
     ]
    }
   ],
   "source": [
    "from keras_preprocessing import image\n",
    "import tensorflow as tf"
   ]
  },
  {
   "cell_type": "code",
   "execution_count": 2,
   "metadata": {},
   "outputs": [],
   "source": [
    "physical_devices = tf.config.list_physical_devices(\"GPU\")\n",
    "tf.config.experimental.set_memory_growth(physical_devices[0], True)"
   ]
  },
  {
   "cell_type": "code",
   "execution_count": 3,
   "metadata": {
    "id": "EBrgkKuYqT-Y"
   },
   "outputs": [],
   "source": [
    "train_datagenerator = image.ImageDataGenerator(\n",
    "    rotation_range = 0.18,\n",
    "    shear_range = 0.18,\n",
    "    zoom_range  = 0.18,\n",
    "    fill_mode='reflect',\n",
    "    rescale=1./255,\n",
    "    horizontal_flip=True\n",
    ")\n",
    "\n",
    "validation_datagenerator = image.ImageDataGenerator(\n",
    "    rescale=1./255\n",
    ")"
   ]
  },
  {
   "cell_type": "code",
   "execution_count": 4,
   "metadata": {
    "colab": {
     "base_uri": "https://localhost:8080/"
    },
    "id": "-_RtgCCEy2Yx",
    "outputId": "d5e61a47-4fa6-4fd9-dadb-7f0f959a35a9"
   },
   "outputs": [
    {
     "name": "stdout",
     "output_type": "stream",
     "text": [
      "Found 6000 images belonging to 2 classes.\n"
     ]
    }
   ],
   "source": [
    "train = train_datagenerator.flow_from_directory(\n",
    "    \"Datasets/Train\",\n",
    "    target_size= (224,224),\n",
    "    batch_size=32,\n",
    "    # color_mode='grayscale',\n",
    "    class_mode = \"binary\"\n",
    ")"
   ]
  },
  {
   "cell_type": "code",
   "execution_count": 5,
   "metadata": {
    "colab": {
     "base_uri": "https://localhost:8080/"
    },
    "id": "kuVN4WfYy-nQ",
    "outputId": "179e477a-cf3d-45b1-99a2-84e5814280d1"
   },
   "outputs": [
    {
     "data": {
      "text/plain": [
       "{'covid': 0, 'normal': 1}"
      ]
     },
     "execution_count": 5,
     "metadata": {},
     "output_type": "execute_result"
    }
   ],
   "source": [
    "train.class_indices"
   ]
  },
  {
   "cell_type": "code",
   "execution_count": 6,
   "metadata": {
    "colab": {
     "base_uri": "https://localhost:8080/"
    },
    "id": "PVd57m4Hza4O",
    "outputId": "e2396980-0ca0-4442-c69c-223f2c8dad13"
   },
   "outputs": [
    {
     "name": "stdout",
     "output_type": "stream",
     "text": [
      "Found 1232 images belonging to 2 classes.\n"
     ]
    }
   ],
   "source": [
    "test = validation_datagenerator.flow_from_directory(\n",
    "    \"Datasets/Validation\",\n",
    "    target_size=(224,224),\n",
    "    batch_size=30,\n",
    "    # color_mode = 'grayscale',\n",
    "    class_mode='binary'\n",
    ")"
   ]
  },
  {
   "cell_type": "code",
   "execution_count": 7,
   "metadata": {
    "colab": {
     "base_uri": "https://localhost:8080/"
    },
    "id": "3FBjIPNj4swV",
    "outputId": "bd09423b-22b2-4227-9278-d75c567d8fca"
   },
   "outputs": [
    {
     "data": {
      "text/plain": [
       "{'covid': 0, 'normal': 1}"
      ]
     },
     "execution_count": 7,
     "metadata": {},
     "output_type": "execute_result"
    }
   ],
   "source": [
    "test.class_indices"
   ]
  },
  {
   "cell_type": "markdown",
   "metadata": {
    "id": "HPQJ9LJS41Z3"
   },
   "source": [
    "#MODEL\n"
   ]
  },
  {
   "cell_type": "code",
   "execution_count": 8,
   "metadata": {
    "id": "ax9fQI984xTk"
   },
   "outputs": [],
   "source": [
    "from keras.models import Sequential\n",
    "from keras.layers import Conv2D,Dense,MaxPool2D,Dropout,Flatten,BatchNormalization"
   ]
  },
  {
   "cell_type": "code",
   "execution_count": 9,
   "metadata": {
    "id": "ePWcRC1g5c7e"
   },
   "outputs": [],
   "source": [
    "def create_model():\n",
    "    model = Sequential()\n",
    "    model.add(Conv2D(filters=32,kernel_size=(3,3),activation='relu',input_shape=(224,224,3)))  \n",
    "    model.add(MaxPool2D())\n",
    "\n",
    "    model.add(Conv2D(filters=64,kernel_size=(3,3),activation='relu'))  \n",
    "    model.add(MaxPool2D())\n",
    "\n",
    "    model.add(Conv2D(filters=128,kernel_size=(3,3),activation='relu'))\n",
    "    model.add(MaxPool2D())\n",
    "\n",
    "    model.add(Conv2D(filters=256,kernel_size=(3,3),activation='relu'))\n",
    "    model.add(MaxPool2D())\n",
    "\n",
    "    model.add(Conv2D(filters=256,kernel_size=(3,3),activation='relu'))\n",
    "    model.add(MaxPool2D())\n",
    "\n",
    "    model.add(Flatten())\n",
    "    model.add(Dense(512,activation='relu'))\n",
    "    model.add(Dropout(0.2))\n",
    "    model.add(Dense(1,activation='sigmoid'))\n",
    "\n",
    "    model.compile(loss='binary_crossentropy',optimizer='adam',metrics=['accuracy'])\n",
    "    print(model.summary())\n",
    "    return model"
   ]
  },
  {
   "cell_type": "code",
   "execution_count": 10,
   "metadata": {
    "id": "FW604gRqXFhQ"
   },
   "outputs": [],
   "source": [
    "import os\n",
    "import keras\n"
   ]
  },
  {
   "cell_type": "code",
   "execution_count": 11,
   "metadata": {
    "id": "Uh-WF1qXQzOH"
   },
   "outputs": [],
   "source": [
    "\n",
    "from keras.callbacks import ModelCheckpoint,EarlyStopping,CSVLogger\n",
    "filepath = \"Datasets/best_model.hdf5\"\n",
    "checkpoint = ModelCheckpoint(filepath,monitor='val_accuracy',verbose=1,save_best_only=True,mode = \"max\")\n",
    "\n",
    "early_stopping = EarlyStopping(monitor='val_loss',verbose=1,patience=3)\n",
    "\n",
    "log_csv = CSVLogger('Datasets/model_logs.csv',separator=',',append=False)\n",
    "\n",
    "callback_list = [checkpoint,early_stopping,log_csv]"
   ]
  },
  {
   "cell_type": "code",
   "execution_count": 12,
   "metadata": {
    "colab": {
     "base_uri": "https://localhost:8080/"
    },
    "id": "5REiP_a-XhPy",
    "outputId": "15dfc149-29ed-474b-9dec-331c03ba1b35"
   },
   "outputs": [
    {
     "name": "stdout",
     "output_type": "stream",
     "text": [
      "Model: \"sequential\"\n",
      "_________________________________________________________________\n",
      "Layer (type)                 Output Shape              Param #   \n",
      "=================================================================\n",
      "conv2d (Conv2D)              (None, 222, 222, 32)      896       \n",
      "_________________________________________________________________\n",
      "max_pooling2d (MaxPooling2D) (None, 111, 111, 32)      0         \n",
      "_________________________________________________________________\n",
      "conv2d_1 (Conv2D)            (None, 109, 109, 64)      18496     \n",
      "_________________________________________________________________\n",
      "max_pooling2d_1 (MaxPooling2 (None, 54, 54, 64)        0         \n",
      "_________________________________________________________________\n",
      "conv2d_2 (Conv2D)            (None, 52, 52, 128)       73856     \n",
      "_________________________________________________________________\n",
      "max_pooling2d_2 (MaxPooling2 (None, 26, 26, 128)       0         \n",
      "_________________________________________________________________\n",
      "conv2d_3 (Conv2D)            (None, 24, 24, 256)       295168    \n",
      "_________________________________________________________________\n",
      "max_pooling2d_3 (MaxPooling2 (None, 12, 12, 256)       0         \n",
      "_________________________________________________________________\n",
      "conv2d_4 (Conv2D)            (None, 10, 10, 256)       590080    \n",
      "_________________________________________________________________\n",
      "max_pooling2d_4 (MaxPooling2 (None, 5, 5, 256)         0         \n",
      "_________________________________________________________________\n",
      "flatten (Flatten)            (None, 6400)              0         \n",
      "_________________________________________________________________\n",
      "dense (Dense)                (None, 512)               3277312   \n",
      "_________________________________________________________________\n",
      "dropout (Dropout)            (None, 512)               0         \n",
      "_________________________________________________________________\n",
      "dense_1 (Dense)              (None, 1)                 513       \n",
      "=================================================================\n",
      "Total params: 4,256,321\n",
      "Trainable params: 4,256,321\n",
      "Non-trainable params: 0\n",
      "_________________________________________________________________\n",
      "None\n",
      "Model: \"sequential\"\n",
      "_________________________________________________________________\n",
      "Layer (type)                 Output Shape              Param #   \n",
      "=================================================================\n",
      "conv2d (Conv2D)              (None, 222, 222, 32)      896       \n",
      "_________________________________________________________________\n",
      "max_pooling2d (MaxPooling2D) (None, 111, 111, 32)      0         \n",
      "_________________________________________________________________\n",
      "conv2d_1 (Conv2D)            (None, 109, 109, 64)      18496     \n",
      "_________________________________________________________________\n",
      "max_pooling2d_1 (MaxPooling2 (None, 54, 54, 64)        0         \n",
      "_________________________________________________________________\n",
      "conv2d_2 (Conv2D)            (None, 52, 52, 128)       73856     \n",
      "_________________________________________________________________\n",
      "max_pooling2d_2 (MaxPooling2 (None, 26, 26, 128)       0         \n",
      "_________________________________________________________________\n",
      "conv2d_3 (Conv2D)            (None, 24, 24, 256)       295168    \n",
      "_________________________________________________________________\n",
      "max_pooling2d_3 (MaxPooling2 (None, 12, 12, 256)       0         \n",
      "_________________________________________________________________\n",
      "conv2d_4 (Conv2D)            (None, 10, 10, 256)       590080    \n",
      "_________________________________________________________________\n",
      "max_pooling2d_4 (MaxPooling2 (None, 5, 5, 256)         0         \n",
      "_________________________________________________________________\n",
      "flatten (Flatten)            (None, 6400)              0         \n",
      "_________________________________________________________________\n",
      "dense (Dense)                (None, 512)               3277312   \n",
      "_________________________________________________________________\n",
      "dropout (Dropout)            (None, 512)               0         \n",
      "_________________________________________________________________\n",
      "dense_1 (Dense)              (None, 1)                 513       \n",
      "=================================================================\n",
      "Total params: 4,256,321\n",
      "Trainable params: 4,256,321\n",
      "Non-trainable params: 0\n",
      "_________________________________________________________________\n"
     ]
    }
   ],
   "source": [
    "if os.path.exists(filepath):\n",
    "    model = keras.models.load_model(filepath)\n",
    "else :\n",
    "    model = create_model()\n",
    "\n",
    "model.summary()"
   ]
  },
  {
   "cell_type": "code",
   "execution_count": 13,
   "metadata": {
    "colab": {
     "base_uri": "https://localhost:8080/",
     "height": 558
    },
    "id": "jDB1vR370bii",
    "outputId": "267e99d2-b7e4-4dd6-b72a-a401bdc844e9"
   },
   "outputs": [
    {
     "name": "stderr",
     "output_type": "stream",
     "text": [
      "c:\\python39\\lib\\site-packages\\keras\\engine\\training.py:1915: UserWarning: `Model.fit_generator` is deprecated and will be removed in a future version. Please use `Model.fit`, which supports generators.\n",
      "  warnings.warn('`Model.fit_generator` is deprecated and '\n"
     ]
    },
    {
     "name": "stdout",
     "output_type": "stream",
     "text": [
      "Epoch 1/100\n",
      "WARNING:tensorflow:AutoGraph could not transform <bound method Dense.call of <keras.layers.core.Dense object at 0x000001EADA1B35E0>> and will run it as-is.\n",
      "Please report this to the TensorFlow team. When filing the bug, set the verbosity to 10 (on Linux, `export AUTOGRAPH_VERBOSITY=10`) and attach the full output.\n",
      "Cause: invalid syntax (tmph7v1sk0x.py, line 48)\n",
      "To silence this warning, decorate the function with @tf.autograph.experimental.do_not_convert\n",
      "WARNING: AutoGraph could not transform <bound method Dense.call of <keras.layers.core.Dense object at 0x000001EADA1B35E0>> and will run it as-is.\n",
      "Please report this to the TensorFlow team. When filing the bug, set the verbosity to 10 (on Linux, `export AUTOGRAPH_VERBOSITY=10`) and attach the full output.\n",
      "Cause: invalid syntax (tmph7v1sk0x.py, line 48)\n",
      "To silence this warning, decorate the function with @tf.autograph.experimental.do_not_convert\n",
      "200/200 [==============================] - 91s 371ms/step - loss: 0.6414 - accuracy: 0.6230 - val_loss: 0.4378 - val_accuracy: 0.7965\n",
      "\n",
      "Epoch 00001: val_accuracy improved from -inf to 0.79654, saving model to Datasets\\best_model.hdf5\n",
      "Epoch 2/100\n",
      "200/200 [==============================] - 70s 353ms/step - loss: 0.4823 - accuracy: 0.7652 - val_loss: 0.3738 - val_accuracy: 0.8544\n",
      "\n",
      "Epoch 00002: val_accuracy improved from 0.79654 to 0.85444, saving model to Datasets\\best_model.hdf5\n",
      "Epoch 3/100\n",
      "200/200 [==============================] - 70s 350ms/step - loss: 0.4102 - accuracy: 0.8027 - val_loss: 0.4071 - val_accuracy: 0.8259\n",
      "\n",
      "Epoch 00003: val_accuracy did not improve from 0.85444\n",
      "Epoch 4/100\n",
      "200/200 [==============================] - 69s 346ms/step - loss: 0.3745 - accuracy: 0.8404 - val_loss: 0.2639 - val_accuracy: 0.8964\n",
      "\n",
      "Epoch 00004: val_accuracy improved from 0.85444 to 0.89642, saving model to Datasets\\best_model.hdf5\n",
      "Epoch 5/100\n",
      "200/200 [==============================] - 69s 345ms/step - loss: 0.3172 - accuracy: 0.8568 - val_loss: 0.2110 - val_accuracy: 0.9276\n",
      "\n",
      "Epoch 00005: val_accuracy improved from 0.89642 to 0.92765, saving model to Datasets\\best_model.hdf5\n",
      "Epoch 6/100\n",
      "200/200 [==============================] - 68s 342ms/step - loss: 0.2971 - accuracy: 0.8796 - val_loss: 0.2453 - val_accuracy: 0.9058\n",
      "\n",
      "Epoch 00006: val_accuracy did not improve from 0.92765\n",
      "Epoch 7/100\n",
      "200/200 [==============================] - 70s 349ms/step - loss: 0.2572 - accuracy: 0.8978 - val_loss: 0.1775 - val_accuracy: 0.9340\n",
      "\n",
      "Epoch 00007: val_accuracy improved from 0.92765 to 0.93396, saving model to Datasets\\best_model.hdf5\n",
      "Epoch 8/100\n",
      "200/200 [==============================] - 69s 344ms/step - loss: 0.2401 - accuracy: 0.9043 - val_loss: 0.2158 - val_accuracy: 0.9208\n",
      "\n",
      "Epoch 00008: val_accuracy did not improve from 0.93396\n",
      "Epoch 9/100\n",
      "200/200 [==============================] - 68s 341ms/step - loss: 0.2058 - accuracy: 0.9205 - val_loss: 0.1254 - val_accuracy: 0.9531\n",
      "\n",
      "Epoch 00009: val_accuracy improved from 0.93396 to 0.95307, saving model to Datasets\\best_model.hdf5\n",
      "Epoch 10/100\n",
      "200/200 [==============================] - 68s 341ms/step - loss: 0.2029 - accuracy: 0.9207 - val_loss: 0.1379 - val_accuracy: 0.9506\n",
      "\n",
      "Epoch 00010: val_accuracy did not improve from 0.95307\n",
      "Epoch 11/100\n",
      "200/200 [==============================] - 68s 341ms/step - loss: 0.1829 - accuracy: 0.9294 - val_loss: 0.1846 - val_accuracy: 0.9247\n",
      "\n",
      "Epoch 00011: val_accuracy did not improve from 0.95307\n",
      "Epoch 12/100\n",
      "200/200 [==============================] - 69s 347ms/step - loss: 0.1787 - accuracy: 0.9322 - val_loss: 0.1254 - val_accuracy: 0.9590\n",
      "\n",
      "Epoch 00012: val_accuracy improved from 0.95307 to 0.95904, saving model to Datasets\\best_model.hdf5\n",
      "Epoch 00012: early stopping\n"
     ]
    }
   ],
   "source": [
    "\n",
    "\n",
    "history = model.fit_generator(\n",
    "  train,\n",
    "  steps_per_epoch = 3600//18,\n",
    "  epochs = 100,\n",
    "  verbose=1,\n",
    "  validation_data=test,\n",
    "  validation_steps=3600//18,\n",
    "\n",
    "  callbacks=callback_list\n",
    ")\n"
   ]
  },
  {
   "cell_type": "code",
   "execution_count": 14,
   "metadata": {
    "id": "d458UFun0TGn"
   },
   "outputs": [],
   "source": [
    "model.save(\"model.h5\")\n",
    "# !rm -r /content/Datasets/model.h5"
   ]
  },
  {
   "cell_type": "code",
   "execution_count": 15,
   "metadata": {
    "id": "Sqri6T96yS5v"
   },
   "outputs": [],
   "source": [
    "best_model = tf.keras.models.load_model(\"Datasets/best_model.hdf5\")\n",
    "model = tf.keras.models.load_model(\"model.h5\")"
   ]
  },
  {
   "cell_type": "code",
   "execution_count": 16,
   "metadata": {
    "colab": {
     "base_uri": "https://localhost:8080/"
    },
    "id": "4JMS1IgFycL8",
    "outputId": "953ae917-e068-45c9-df20-93046c166f61"
   },
   "outputs": [
    {
     "name": "stderr",
     "output_type": "stream",
     "text": [
      "c:\\python39\\lib\\site-packages\\tensorflow\\python\\keras\\engine\\training.py:1973: UserWarning: `Model.evaluate_generator` is deprecated and will be removed in a future version. Please use `Model.evaluate`, which supports generators.\n",
      "  warnings.warn('`Model.evaluate_generator` is deprecated and '\n"
     ]
    },
    {
     "name": "stdout",
     "output_type": "stream",
     "text": [
      "42/42 [==============================] - 3s 58ms/step - loss: 0.1240 - accuracy: 0.9594\n",
      "42/42 [==============================] - 3s 59ms/step - loss: 0.1240 - accuracy: 0.9594\n"
     ]
    }
   ],
   "source": [
    "[model_loss,model_accuracy] = model.evaluate_generator(test,verbose=1)\n",
    "[best_model_loss,best_model_accuracy] = best_model.evaluate_generator(test,verbose=1)\n",
    "if model_accuracy>best_model_accuracy:\n",
    "    model.save(\"Datasets/model.h5\")\n",
    "    print(\"Saved New Model\")"
   ]
  },
  {
   "cell_type": "code",
   "execution_count": null,
   "metadata": {
    "id": "5ejSMQ-qyoeu"
   },
   "outputs": [],
   "source": [
    "# !rm -r /content/drive/MyDrive/Datasets/saved_model.pb"
   ]
  },
  {
   "cell_type": "code",
   "execution_count": null,
   "metadata": {
    "id": "eOEGKzxdzO9l"
   },
   "outputs": [],
   "source": []
  }
 ],
 "metadata": {
  "accelerator": "GPU",
  "colab": {
   "collapsed_sections": [],
   "history_visible": true,
   "machine_shape": "hm",
   "name": "Copy of CNN.ipynb",
   "provenance": []
  },
  "kernelspec": {
   "display_name": "Python 3",
   "language": "python",
   "name": "python3"
  },
  "language_info": {
   "codemirror_mode": {
    "name": "ipython",
    "version": 3
   },
   "file_extension": ".py",
   "mimetype": "text/x-python",
   "name": "python",
   "nbconvert_exporter": "python",
   "pygments_lexer": "ipython3",
   "version": "3.9.0"
  }
 },
 "nbformat": 4,
 "nbformat_minor": 1
}
