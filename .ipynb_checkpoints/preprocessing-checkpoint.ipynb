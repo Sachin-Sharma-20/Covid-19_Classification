{
 "cells": [
  {
   "cell_type": "code",
   "execution_count": 7,
   "metadata": {},
   "outputs": [],
   "source": [
    "import os\n",
    "import random\n",
    "import shutil"
   ]
  },
  {
   "cell_type": "code",
   "execution_count": 8,
   "metadata": {},
   "outputs": [
    {
     "name": "stdout",
     "output_type": "stream",
     "text": [
      "3616 10192\n"
     ]
    }
   ],
   "source": [
    "covid_dir = \"covid\"\n",
    "normal_dir = \"normal\"\n",
    "\n",
    "covid_data = \"COVID\"\n",
    "normal_data = \"Normal\"\n",
    "\n",
    "train_dir = \"Train\"\n",
    "val_dir = \"Validation\"\n",
    "\n",
    "covid_images = os.listdir(covid_data)\n",
    "normal_images = os.listdir(normal_data)\n",
    "\n",
    "covid_train_path = os.path.join(train_dir,covid_dir)\n",
    "covid_val_path = os.path.join(val_dir,covid_dir)\n",
    "normal_train_path = os.path.join(train_dir,normal_dir)\n",
    "normal_val_path = os.path.join(val_dir,normal_dir)\n",
    "os.mkdir(covid_train_path)\n",
    "os.mkdir(covid_val_path)\n",
    "os.mkdir(normal_train_path)\n",
    "os.mkdir(normal_val_path)\n",
    "\n",
    "print(len(covid_images),len(normal_images))"
   ]
  },
  {
   "cell_type": "code",
   "execution_count": 13,
   "metadata": {},
   "outputs": [],
   "source": [
    "# Let's keep 3000 images in training set and 616 in validation set\n",
    "random.seed(10)\n",
    "random.shuffle(covid_images)\n",
    "random.shuffle(normal_images)\n",
    "\n",
    "\n",
    "\n",
    "for i in range(3000):\n",
    "    covid_img_name = covid_images[i]\n",
    "    cimg_path = os.path.join(covid_data,covid_img_name)\n",
    "    c_target = os.path.join(covid_train_path,covid_img_name)\n",
    "    shutil.copy2(cimg_path,c_target)\n",
    "    \n",
    "    normal_img_name = normal_images[i]\n",
    "    nimg_path = os.path.join(normal_data,normal_img_name)\n",
    "    n_target = os.path.join(normal_train_path,normal_img_name)\n",
    "    shutil.copy2(nimg_path,n_target)\n",
    "    \n",
    "    \n",
    "for i in range(3000,3616):\n",
    "    covid_img_name = covid_images[i]\n",
    "    cimg_path = os.path.join(covid_data,covid_img_name)\n",
    "    c_target = os.path.join(covid_val_path,covid_img_name)\n",
    "    shutil.copy2(cimg_path,c_target)\n",
    "    \n",
    "    normal_img_name = normal_images[i]\n",
    "    nimg_path = os.path.join(normal_data,normal_img_name)\n",
    "    n_target = os.path.join(normal_val_path,normal_img_name)\n",
    "    shutil.copy2(nimg_path,n_target)"
   ]
  },
  {
   "cell_type": "code",
   "execution_count": 10,
   "metadata": {},
   "outputs": [
    {
     "data": {
      "text/plain": [
       "3000"
      ]
     },
     "execution_count": 10,
     "metadata": {},
     "output_type": "execute_result"
    }
   ],
   "source": [
    "len(os.listdir(covid_train_path))"
   ]
  },
  {
   "cell_type": "code",
   "execution_count": 14,
   "metadata": {},
   "outputs": [
    {
     "data": {
      "text/plain": [
       "616"
      ]
     },
     "execution_count": 14,
     "metadata": {},
     "output_type": "execute_result"
    }
   ],
   "source": [
    "len(os.listdir(covid_val_path))"
   ]
  },
  {
   "cell_type": "code",
   "execution_count": null,
   "metadata": {},
   "outputs": [],
   "source": []
  }
 ],
 "metadata": {
  "kernelspec": {
   "display_name": "Python 3",
   "language": "python",
   "name": "python3"
  },
  "language_info": {
   "codemirror_mode": {
    "name": "ipython",
    "version": 3
   },
   "file_extension": ".py",
   "mimetype": "text/x-python",
   "name": "python",
   "nbconvert_exporter": "python",
   "pygments_lexer": "ipython3",
   "version": "3.9.0"
  }
 },
 "nbformat": 4,
 "nbformat_minor": 4
}
